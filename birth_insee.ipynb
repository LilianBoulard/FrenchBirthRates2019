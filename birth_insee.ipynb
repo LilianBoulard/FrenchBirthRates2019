{
 "cells": [
  {
   "cell_type": "markdown",
   "id": "7f524ba1-7c01-4c68-820c-8d19640c536d",
   "metadata": {},
   "source": [
    "# Exploring the French birth rates dataset\n",
    "\n",
    "This notebook aims at exploring and providing some insights into the birth rates of the year 2019 in France.\n",
    "\n",
    "The dataset is provided by the Insee and can be found here: https://www.insee.fr/fr/statistiques/4768335?sommaire=4768339"
   ]
  },
  {
   "cell_type": "code",
   "execution_count": null,
   "id": "dd98142f-250b-46ca-8ebe-5a27291bd69f",
   "metadata": {},
   "outputs": [],
   "source": [
    "!pip install --upgrade --user pip pandas numpy geopandas plotly jupyter-dash\n",
    "import os\n",
    "import numpy as np\n",
    "import pandas as pd\n",
    "import geopandas as gpd\n",
    "import plotly.express as px\n",
    "\n",
    "from dash import dcc, html, Input, Output\n",
    "from jupyter_dash import JupyterDash\n",
    "from calendar import monthrange"
   ]
  },
  {
   "cell_type": "markdown",
   "id": "f3a68b24",
   "metadata": {},
   "source": [
    "## Motivation for using plotly and Dash\n",
    "\n",
    "I decided to use plotly as I'm already familiar with it, and in turn will help me get better results, faster.\n",
    "\n",
    "Using it in tandem with Dash allows us to use the same logic code for different views (that is, here in this notebook, and in the fully fledged dashboard)."
   ]
  },
  {
   "cell_type": "markdown",
   "id": "4ccbc0f1-bd8f-45d9-8d1f-8a1b8ca694c8",
   "metadata": {},
   "source": [
    "\n",
    "## Loading the data\n",
    "\n",
    "First, we will load the data: the birth rates in France in 2019."
   ]
  },
  {
   "cell_type": "code",
   "execution_count": null,
   "id": "d225b922-e489-42cb-bff3-cafc9aed7373",
   "metadata": {},
   "outputs": [],
   "source": [
    "df = pd.read_csv(\"./FD_NAIS_2019.csv\", delimiter=\";\")\n",
    "\n",
    "\n",
    "# A bit of cleaning, useful later.\n",
    "\n",
    "def clean_dep(dep) -> str:\n",
    "    dep = str(dep)\n",
    "    if len(dep) == 1:\n",
    "        return f\"0{dep}\"\n",
    "    return dep\n",
    "\n",
    "\n",
    "df[\"DEPNAIS\"] = df[\"DEPNAIS\"].replace({\n",
    "    dep: clean_dep(dep)\n",
    "    for dep in df[\"DEPNAIS\"].unique()\n",
    "})"
   ]
  },
  {
   "cell_type": "markdown",
   "id": "f984d1b7-90e1-44c0-8ac1-e196198d4217",
   "metadata": {},
   "source": [
    "# Visualization"
   ]
  },
  {
   "cell_type": "markdown",
   "id": "c3b74768",
   "metadata": {},
   "source": [
    "## Number of births per department\n",
    "\n",
    "An interesting thing we can do, given we have information about the birth location, is plot the births depending on the department (the most granular info we have).\n",
    "\n",
    "We will use the France GeoJSON info, which can be found at https://france-geojson.gregoiredavid.fr"
   ]
  },
  {
   "cell_type": "code",
   "execution_count": null,
   "id": "06932129-dfdd-4a57-ae3a-578562bfb7ee",
   "metadata": {},
   "outputs": [],
   "source": [
    "gdf = gpd.read_file(\"https://france-geojson.gregoiredavid.fr/repo/departements.geojson\")\n",
    "gdf = gdf.set_index(\"code\", drop=True)"
   ]
  },
  {
   "cell_type": "markdown",
   "id": "c561799c",
   "metadata": {},
   "source": [
    "Let's plot the birth rates per department.\n",
    "\n",
    "We will have two views: one with the absolute numbers, which will highlight which departments have the highest rates, and one with a logarithmic scale, which will help us see which departments have the lowest rates."
   ]
  },
  {
   "cell_type": "code",
   "execution_count": null,
   "id": "4189cb0f",
   "metadata": {
    "scrolled": false
   },
   "outputs": [],
   "source": [
    "df_choropleth = pd.DataFrame(\n",
    "    [\n",
    "        (code, df[df[\"DEPNAIS\"] == clean_dep(code)].shape[0])\n",
    "        for code in gdf.index\n",
    "    ],\n",
    "    columns=[\"Department\", \"Births (abs)\"],\n",
    ")\n",
    "df_choropleth[\"Births (log)\"] = np.log(df_choropleth[\"Births (abs)\"])\n",
    "\n",
    "\n",
    "app = JupyterDash(__name__)\n",
    "\n",
    "\n",
    "app.layout = html.Div([\n",
    "    dcc.Graph(id=\"choropleth-graph\"),\n",
    "    html.P(\"Graph scale:\"),\n",
    "    dcc.RadioItems(\n",
    "        ['Absolute', 'Logarithmic'],\n",
    "        'Absolute',\n",
    "        id='choropleth-graph-scale'\n",
    "    ),\n",
    "])\n",
    "\n",
    "\n",
    "@app.callback(\n",
    "    Output(\"choropleth-graph\", \"figure\"),\n",
    "    Input(\"choropleth-graph-scale\", \"value\"),\n",
    ")\n",
    "def update_map(scale: str):\n",
    "    birth_var = {\n",
    "        \"Absolute\": \"Births (abs)\",\n",
    "        \"Logarithmic\": \"Births (log)\"\n",
    "    }\n",
    "    fig = px.choropleth_mapbox(\n",
    "        df_choropleth,\n",
    "        geojson=gdf.geometry,\n",
    "        locations='Department',\n",
    "        color=birth_var[scale],\n",
    "        color_continuous_scale=\"Viridis\",\n",
    "        mapbox_style=\"carto-positron\",\n",
    "        zoom=4, center = {\"lat\": 46.2447976, \"lon\": 4.1123575},\n",
    "        opacity=0.5,\n",
    "        title=\"Births per department\",\n",
    "    )\n",
    "    fig.update_layout(margin={\"r\": 0,\"t\": 0,\"l\": 0,\"b\": 0})\n",
    "    return fig\n",
    "\n",
    "\n",
    "app.run_server(mode=\"inline\", port=8051)"
   ]
  },
  {
   "cell_type": "markdown",
   "id": "205de999",
   "metadata": {},
   "source": [
    "We observe there is a very large disparity between where people are born on the territory.\n",
    "\n",
    "Quite predictably, the departments with the highest rates are those containing the largest cities in the country.\n",
    "\n",
    "The \"diagonale du vide\" is not very noticeable, except for a few departments, like the 23rd and the 48th."
   ]
  },
  {
   "cell_type": "markdown",
   "id": "9ecde874",
   "metadata": {},
   "source": [
    "## Monthly distribution\n",
    "\n",
    "On another topic, I'd be intersted to know if there are times in the year when there are more births.\n",
    "\n",
    "Intuitively, a few things come to mind:\n",
    "- The births should be pretty constant throughout the year\n",
    "- There might be spikes about 9 months after a festive event\n",
    "  - The only special one I can think of is France wining the FIFA World Cup (July 2018), so perhaps there's a spike in April 2019.\n",
    "  - Other ones include Valentine's day (expected: November 2019) and Christmas (expected: September 2019).\n",
    "\n",
    "Let's check that!\n",
    "\n",
    "Two thing that spring to mind:\n",
    "- some months, like February, have less days, thus we should normalize them\n",
    "- I'm also interested in mapping the birth month to the procreation month"
   ]
  },
  {
   "cell_type": "code",
   "execution_count": null,
   "id": "fc7dfd89",
   "metadata": {
    "scrolled": false
   },
   "outputs": [],
   "source": [
    "months = [\"January\", \"February\", \"March\", \"April\", \"May\", \"June\",\n",
    "          \"July\", \"August\", \"September\", \"October\", \"November\", \"December\"]\n",
    "df_barplot = pd.DataFrame(\n",
    "    [\n",
    "        (month, months[month - 1], df[df[\"MNAIS\"] == month].shape[0])\n",
    "        for month in df[\"MNAIS\"].unique()\n",
    "    ],\n",
    "    columns=[\"Month_ind\", \"Month (birth)\", \"Births (abs)\"],\n",
    ").sort_values(\"Month_ind\")\n",
    "df_barplot[\"Births (norm)\"] = df_barplot.apply(\n",
    "    lambda ser: round((ser[\"Births (abs)\"] / monthrange(2019, ser[\"Month_ind\"])[1] * 30)),\n",
    "    axis=1,\n",
    ")\n",
    "df_barplot[\"Month (procreation)\"] = df_barplot[\"Month (birth)\"].replace({\n",
    "    \"January\": \"April 2018\",\n",
    "    \"February\": \"May 2018\",\n",
    "    \"March\": \"June 2018\",\n",
    "    \"April\": \"July 2018\",\n",
    "    \"May\": \"August 2018\",\n",
    "    \"June\": \"September 2018\",\n",
    "    \"July\": \"October 2018\",\n",
    "    \"August\": \"November 2018\",\n",
    "    \"September\": \"December 2018\",\n",
    "    \"October\": \"January 2019\",\n",
    "    \"November\": \"February 2019\",\n",
    "    \"December\": \"March 2019\",\n",
    "})\n",
    "df_barplot[\"Number\"] = df_barplot[\"Births (norm)\"]  # alias\n",
    "\n",
    "app = JupyterDash(__name__)\n",
    "\n",
    "\n",
    "app.layout = html.Div([\n",
    "    html.H4('Interactive choropleth of births per department'),\n",
    "    dcc.Graph(id=\"barplot-graph\"),\n",
    "    html.P(\"Births:\"),\n",
    "    dcc.RadioItems(\n",
    "        ['Absolute', 'Normalized'],\n",
    "        'Absolute',\n",
    "        id='barplot-graph-bars'\n",
    "    ),\n",
    "    html.P(\"Months:\"),\n",
    "    dcc.RadioItems(\n",
    "        ['Births', 'Procreations'],\n",
    "        'Births',\n",
    "        id='barplot-graph-type'\n",
    "    ),\n",
    "])\n",
    "\n",
    "\n",
    "@app.callback(\n",
    "    Output(\"barplot-graph\", \"figure\"),\n",
    "    Input(\"barplot-graph-bars\", \"value\"),\n",
    "    Input(\"barplot-graph-type\", \"value\"),\n",
    ")\n",
    "def update_barplot(bars: str, data_type: str):\n",
    "    birth_var = {\n",
    "        \"Absolute\": \"Births (abs)\",\n",
    "        \"Normalized\": \"Births (norm)\",\n",
    "    }\n",
    "    type_var = {\n",
    "        \"Births\": \"Month (birth)\",\n",
    "        \"Procreations\": \"Month (procreation)\",\n",
    "    }\n",
    "    fig = px.bar(\n",
    "        df_barplot,\n",
    "        x=type_var[data_type], y=birth_var[bars],\n",
    "        title=f\"{data_type} per month\",\n",
    "    )\n",
    "    return fig\n",
    "\n",
    "\n",
    "app.run_server(mode=\"inline\", port=8052)"
   ]
  },
  {
   "cell_type": "markdown",
   "id": "2290053e",
   "metadata": {},
   "source": [
    "There are little fluctuations, but no single month stands out.\n",
    "\n",
    "We can notice nonetheless that there's a smooth curve when the data is normalized.\n",
    "\n",
    "So, from this graph, it's possible to conclude on the intuition I had earlier:\n",
    "- It looks like the result of the FIFA World Cup didn't have any noticeable impact on the short-term\n",
    "- Niether Christmas nor Valentine's day seem to have a significant effect\n",
    "- Although, there seems to be a tendency about the winter being the most active period of the year"
   ]
  },
  {
   "cell_type": "markdown",
   "id": "21fa5c8a",
   "metadata": {},
   "source": [
    "# Parents' ages\n",
    "\n",
    "Next thing I'm interested in: how are couples distributed accross ages.\n",
    "\n",
    "To know that, I'm going to plot the mother's and father's age on a heatmap, parametrized by the number of births."
   ]
  },
  {
   "cell_type": "code",
   "execution_count": null,
   "id": "a5282056",
   "metadata": {
    "scrolled": false
   },
   "outputs": [],
   "source": [
    "df_heatmapage = pd.DataFrame(\n",
    "    index=sorted(df[\"AGEXACTM\"].unique(), reverse=True),\n",
    "    columns=sorted(df[\"AGEXACTP\"].unique()),\n",
    ").fillna(0)\n",
    "for i, ser in df.groupby([\"AGEXACTP\", \"AGEXACTM\"])[\"ANAIS\"].count().reset_index().iterrows():\n",
    "    df_heatmapage[ser[\"AGEXACTP\"]][ser[\"AGEXACTM\"]] = ser[\"ANAIS\"]\n",
    "\n",
    "fig = px.imshow(df_heatmapage,\n",
    "                labels=dict(x=\"Father's age\", y=\"Mother's age\", color=\"Births\"),\n",
    "                x=df_heatmapage.columns, y=df_heatmapage.index, title=\"Comparison of parent's age and the number of births\")\n",
    "fig.update_xaxes(side=\"top\")\n",
    "fig.show()"
   ]
  },
  {
   "cell_type": "markdown",
   "id": "f512880d",
   "metadata": {},
   "source": [
    "Unsurprisingly, the diagonal stands out: people tend to have relationships (thus, kids) with people their age. The high peak is around the 30s, with the best probability of having a kid being when the father is 31 and the mother 30.\n",
    "\n",
    "I notice an offset diagonal between father=22 & mother=17 and father=28 & mother=23 that I'm not sure how to explain, but it looks like it then fades into the larger cluster further on.\n",
    "\n",
    "A quirk of the data is noticeable on the right side of the vertical axis: the dataset stops at age 46, aggregating older folks at the 46 mark. Thus, as male are still somewhat fertile past this age, it's still possible for them to have kids ; this doesn't hold true for women.\n",
    "\n",
    "Albeit, these are quite unsurprising observations and conclusions, but at least we have confirmed our intuition with actual numbers.\n",
    "\n",
    "Something I notice and want to dig into: the diffusion in the top-right part of the diagonal seems to imply that older men tend to have children with younger women, the contrary being way less common."
   ]
  },
  {
   "cell_type": "markdown",
   "id": "cadc5c12",
   "metadata": {},
   "source": [
    "For the next figure, I'd like to plot the age difference compared to the partner for both men and women depending on their age. Let's do that."
   ]
  },
  {
   "cell_type": "code",
   "execution_count": null,
   "id": "0d129178",
   "metadata": {},
   "outputs": [],
   "source": [
    "data = []\n",
    "data.extend([\n",
    "    (age, age - df[df[\"AGEXACTM\"] == age][\"AGEXACTP\"].mean(), \"Mother\")\n",
    "    for age in sorted(df[\"AGEXACTM\"].unique())\n",
    "])\n",
    "data.extend([\n",
    "    (age, age - df[df[\"AGEXACTP\"] == age][\"AGEXACTM\"].mean(), \"Father\")\n",
    "    for age in sorted(df[\"AGEXACTP\"].unique())\n",
    "])\n",
    "data.extend([\n",
    "    (age, 0, \"Equal\")\n",
    "    for age in sorted(df[\"AGEXACTP\"].unique())\n",
    "])\n",
    "\n",
    "df_agediff = pd.DataFrame(\n",
    "    data,\n",
    "    columns=(\"Age\", \"Mean age difference compared to the other parent\", \"Parent\"),\n",
    ")\n",
    "\n",
    "fig = px.line(df_agediff, x='Age', y=\"Mean age difference compared to the other parent\",\n",
    "              color='Parent', title=\"Mean age difference of a parent compared to the other\")\n",
    "fig.show()"
   ]
  },
  {
   "cell_type": "markdown",
   "id": "ffb06a3d",
   "metadata": {},
   "source": [
    "Wow... that's way more than I imagined!\n",
    "\n",
    "This graphs shows us that on average:\n",
    "- Women tend to have children with older partners until age 42\n",
    "- In opposition, men tend to have children with younger partners from age 22 onwards\n",
    "\n",
    "New fathers aged 46+ are on average 10 years older than their partner! (it might be even more because the data is aggregated)\n",
    "\n",
    "This also to some extent be explained by the difference in fertility between older men and women."
   ]
  },
  {
   "cell_type": "markdown",
   "id": "10e42b18",
   "metadata": {},
   "source": [
    "## Last name inheriting\n",
    "\n",
    "I'd be interested in knowing what last name the children usually inherit.\n",
    "\n",
    "To me, one factor that might influence this stat is the cultural origin. We can try using the nationality indicator to see if that makes any difference."
   ]
  },
  {
   "cell_type": "code",
   "execution_count": null,
   "id": "5dc512f9",
   "metadata": {},
   "outputs": [],
   "source": [
    "ind_to_origine_nom = {\n",
    "    1: \"Father\",\n",
    "    2: \"Mother\",\n",
    "    3: \"Father - Mother\",\n",
    "    4: \"Mother - Father\",\n",
    "    5: \"Other\",\n",
    "}\n",
    "\n",
    "df[\"Last name choice\"] = df.apply(\n",
    "    lambda ser: ind_to_origine_nom.get(ser[\"ORIGINOM\"], \"Father\"),\n",
    "    axis=1,\n",
    ")\n",
    "ind_to_nat = {\n",
    "    1: \"French\",\n",
    "    2: \"Foreign\",\n",
    "}\n",
    "\n",
    "groups = df.groupby([\"INDNATP\", \"INDNATM\", \"Last name choice\"]).count()[\"ANAIS\"].reset_index()\n",
    "\n",
    "fig = px.sunburst(\n",
    "    pd.DataFrame(\n",
    "        [\n",
    "            (ser[\"ANAIS\"], f\"{ind_to_nat[ser['INDNATP']]}/{ind_to_nat[ser['INDNATM']]}\", ser[\"Last name choice\"])\n",
    "            for i, ser in groups.iterrows()\n",
    "        ],\n",
    "        columns=(\"Births\", \"Parents nationality (father/mother)\", \"Last name choice\"),\n",
    "    ),\n",
    "    values='Births', \n",
    "    path=['Parents nationality (father/mother)', 'Last name choice'],\n",
    "    title=\"Representation of children born from French and/or foreign parents, and last name choice\",\n",
    ")\n",
    "fig.show()"
   ]
  },
  {
   "cell_type": "markdown",
   "id": "8efb78b5",
   "metadata": {},
   "source": [
    "Doesn't look nationality plays an important role in the choice of last name.\n",
    "\n",
    "Maybe the parents' ages can impact this result.\n",
    "\n",
    "My intuition is that older couples would tend be more conservative, thus using the father's name, while younger generations might be more relaxed about this subject."
   ]
  },
  {
   "cell_type": "code",
   "execution_count": null,
   "id": "f904d43f",
   "metadata": {
    "scrolled": false
   },
   "outputs": [],
   "source": [
    "data = []\n",
    "for age in sorted(df[\"AGEXACTP\"].unique()):\n",
    "    sub_df = df[(df[\"AGEXACTP\"] == age) | (df[\"AGEXACTM\"] == age)]\n",
    "    for name_choice in df[\"Last name choice\"].unique():\n",
    "        data.append((\n",
    "            age, name_choice,\n",
    "            ((sub_df[\"Last name choice\"] == name_choice).sum() / sub_df.shape[0]) * 100\n",
    "        ))\n",
    "\n",
    "fig = px.line(\n",
    "    pd.DataFrame(\n",
    "        data,\n",
    "        columns=(\"Age\", \"Last name choice\", \"Usage (%)\")\n",
    "    ),\n",
    "    range_y=(0, 100),\n",
    "    x=\"Age\", y=\"Usage (%)\", color=\"Last name choice\",\n",
    "    title=\"Last name choice depending on parents' age\",\n",
    ")\n",
    "fig.show()"
   ]
  },
  {
   "cell_type": "markdown",
   "id": "a1957eaf",
   "metadata": {},
   "source": [
    "That is indeed what we observe: younger folks (< 25 years old) have a much higher tendency of using the mother's name for their child.\n",
    "\n",
    "Alternative combinations (Father - Mother / Mother - Father) are quite uncommon regardless of the couple's age.\n",
    "\n",
    "Next up: the parent's recognition.\n",
    "My intuition would be that the graph would show a growing curve:\n",
    "- Young parents might often not recognize the child\n",
    "- Past age 25, parents are more responsible, and often married, thus recognizing the child more often"
   ]
  },
  {
   "cell_type": "code",
   "execution_count": null,
   "id": "cbabaf03",
   "metadata": {},
   "outputs": [],
   "source": [
    "data = []\n",
    "for age in sorted(df[\"AGEXACTP\"].unique()):\n",
    "    data.append((\n",
    "        \"Mother\", age,\n",
    "        (((df[\"AGEXACTM\"] == age) & ((df[\"ARECM\"] != 0) | (df[\"AMAR\"] != 0))).sum() / (df[\"AGEXACTM\"] == age).sum()) * 100\n",
    "    ))\n",
    "    data.append((\n",
    "        \"Father\", age,\n",
    "        (((df[\"AGEXACTP\"] == age) & ((df[\"ARECP\"] != 0) | (df[\"AMAR\"] != 0))).sum() / (df[\"AGEXACTP\"] == age).sum()) * 100\n",
    "    ))\n",
    "\n",
    "fig = px.line(\n",
    "    pd.DataFrame(\n",
    "        data,\n",
    "        columns=(\"Parent\", \"Age\", \"Recognition rate (%)\")\n",
    "    ),\n",
    "    range_y=(0, 100),\n",
    "    x=\"Age\", y=\"Recognition rate (%)\", color=\"Parent\",\n",
    "    title=\"Recognition rate per parent depending on age\",\n",
    ")\n",
    "fig.show()"
   ]
  },
  {
   "cell_type": "markdown",
   "id": "a94294e1",
   "metadata": {},
   "source": [
    "My intuition was partly correct, but it seems very young parents (< 20 years old) recognize the child more often.\n",
    "\n",
    "There's a dip around age 23 for both, and the peak for both stands at 45+ years old.\n",
    "\n",
    "Last thing I'm interested in from the data at hand: what is usually the number of children born at a time?"
   ]
  },
  {
   "cell_type": "code",
   "execution_count": null,
   "id": "b7319a32",
   "metadata": {},
   "outputs": [],
   "source": [
    "fig = px.pie(\n",
    "    df.groupby(\"NBENF\").count().reset_index(),\n",
    "    values=\"ANAIS\", names=\"NBENF\",\n",
    "    title=\"Number of children per birth\",\n",
    ")\n",
    "fig.show()"
   ]
  },
  {
   "cell_type": "markdown",
   "id": "e11790db",
   "metadata": {},
   "source": [
    "Interesting! It turns out having twins is pretty uncommon (~ 3%), which I would've assumed to be much higher (~ 8-10%) since I'm biased by my family.\n",
    "\n",
    "And it looks like three-borns are very scarse!"
   ]
  },
  {
   "cell_type": "markdown",
   "id": "a0db603c",
   "metadata": {},
   "source": [
    "# Conclusion\n",
    "\n",
    "From this data, it seems that, as of 2019:\n",
    "- the ideal age for having children is around 30 years old for both parents\n",
    "- there is statistically no better or worse month to procreate and have a child\n",
    "- using the mother's last name or a combination of the two names is becoming more common\n",
    "\n",
    "# Future work\n",
    "\n",
    "## Datasources to cross this data with\n",
    "\n",
    "It might be interesting to cross this data with other datasets, such as\n",
    "\n",
    "- Birth rates for other years\n",
    "- Census data about the French population\n",
    "- Why are some departments more \"fertile\" than others?\n",
    "  - Jobs data\n",
    "  - Public infrastructures data"
   ]
  }
 ],
 "metadata": {
  "kernelspec": {
   "display_name": "Python 3 (ipykernel)",
   "language": "python",
   "name": "python3"
  },
  "language_info": {
   "codemirror_mode": {
    "name": "ipython",
    "version": 3
   },
   "file_extension": ".py",
   "mimetype": "text/x-python",
   "name": "python",
   "nbconvert_exporter": "python",
   "pygments_lexer": "ipython3",
   "version": "3.8.8"
  }
 },
 "nbformat": 4,
 "nbformat_minor": 5
}
